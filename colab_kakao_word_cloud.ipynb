{
  "nbformat": 4,
  "nbformat_minor": 0,
  "metadata": {
    "kernelspec": {
      "display_name": "Python 3",
      "language": "python",
      "name": "python3"
    },
    "language_info": {
      "codemirror_mode": {
        "name": "ipython",
        "version": 3
      },
      "file_extension": ".py",
      "mimetype": "text/x-python",
      "name": "python",
      "nbconvert_exporter": "python",
      "pygments_lexer": "ipython3",
      "version": "3.8.8"
    },
    "colab": {
      "name": "colab_kakao_word_cloud.ipynb",
      "provenance": [],
      "collapsed_sections": [
        "PZFhY4cjcc2c"
      ],
      "include_colab_link": true
    }
  },
  "cells": [
    {
      "cell_type": "markdown",
      "metadata": {
        "id": "view-in-github",
        "colab_type": "text"
      },
      "source": [
        "<a href=\"https://colab.research.google.com/github/passiona2z/kakaotalk_wordcloud/blob/master/colab_kakao_word_cloud.ipynb\" target=\"_parent\"><img src=\"https://colab.research.google.com/assets/colab-badge.svg\" alt=\"Open In Colab\"/></a>"
      ]
    },
    {
      "cell_type": "markdown",
      "metadata": {
        "id": "bR1KmKawnJGt"
      },
      "source": [
        "### 1. 기본사항"
      ]
    },
    {
      "cell_type": "markdown",
      "metadata": {
        "id": "Pjkn7XIhmky2"
      },
      "source": [
        "#### 1-1. 카카오톡 텍스트 파일을 업로드하고 필요시 이미지 파일도 업로드해주세요."
      ]
    },
    {
      "cell_type": "markdown",
      "metadata": {
        "id": "9UbEwfhpnfGJ"
      },
      "source": [
        "#### 2-2. 아래 경로 및 값을 변경 또는 입력해주세요."
      ]
    },
    {
      "cell_type": "code",
      "metadata": {
        "id": "PM0Db2RGfKiA"
      },
      "source": [
        "PATH = '/content/'      # 파일 경로 : 코랩에 바로 업로드하면 경로변경 불필요\n",
        "image_PATH = ''         # 이미지 파일 경로 (파일 없으면 워드클라우드 일반형 출력)\n",
        "\n",
        "no_meaning = ''         # 불용어 추가하기 (없으면 그대로 둘 것)\n",
        "word_length = 1         # 단음절 삭제 기준 (변경 가능)"
      ],
      "execution_count": 1,
      "outputs": []
    },
    {
      "cell_type": "markdown",
      "metadata": {
        "id": "cQ4zmeurgeyI"
      },
      "source": [
        "### 2. 워드클라우드 작업 (화살표를 클릭해주세요)"
      ]
    },
    {
      "cell_type": "code",
      "metadata": {
        "id": "_SFHb8gncivL"
      },
      "source": [
        "# 한글 분석 라이브러리 설치.\n",
        "!pip install konlpy\n",
        "\n",
        "# 한글 (나눔) 글꼴 설치\n",
        "!sudo apt-get install -y fonts-nanum\n",
        "!sudo fc-cache -fv\n",
        "!rm ~/.cache/matplitlib -rf\n",
        "\n",
        "from wordcloud import WordCloud\n",
        "import konlpy\n",
        "import numpy as np\n",
        "import pandas as pd\n",
        "import re\n",
        "import matplotlib.pyplot as plt\n",
        "plt.rc('font', family='NanumBarunGothic')     # 한글 깨짐 방지\n",
        "from PIL import Image                         # Pillow 패키지의 영상 핸들링 클래스\n",
        "import os                                     # 파일 확인\n",
        "import natsort                                # 파일 정렬\n",
        "\n",
        "# 파일명 가져오기\n",
        "\n",
        "file_list = os.listdir(PATH)\n",
        "text_list = list()\n",
        "\n",
        "for file in file_list:\n",
        "    if file.split(\".\")[-1] == 'txt':  # check\n",
        "        text_list.append(file)\n",
        "\n",
        "text_list = natsort.natsorted(text_list) # natsort 정렬\n",
        "\n",
        "# 카카오톡 데이터 불러오기\n",
        "\n",
        "text_list_all = []\n",
        "\n",
        "for i in text_list :\n",
        "   with open('/content/'+i, 'r', encoding='utf-8-sig') as f :\n",
        "      my_text = f.readlines()\n",
        "      text_list_all.extend(my_text)  # extend    \n",
        "\n",
        "# 기본 불용어\n",
        "no_meaning += 'ㅠ|ㅜ|ㅡ|ㅋ|ㅎ|' \n",
        "no_meaning += '이모티콘|사진'\n",
        "\n",
        "# 텍스트 부분 발췌\n",
        "\n",
        "my_line = [ a_line.split(':') for a_line in text_list_all]\n",
        "\n",
        "my_line_word = []\n",
        "\n",
        "for a_line in my_line :\n",
        "\n",
        "    try :\n",
        "        a_line = a_line[2] \n",
        "\n",
        "    except : \n",
        "        continue            # try - except\n",
        "\n",
        "    my_line_word.append(a_line)     \n",
        "\n",
        "# 전처리\n",
        "my_line_clean = []\n",
        "\n",
        "for a_line in my_line_word :\n",
        "\n",
        "    a_line = re.sub(no_meaning, ' ', a_line)     # 특별한 의미 없는 단어 스페이스로 대체.\n",
        "    a_line = re.sub('\\W+',' ', a_line)           # 특수 문자 스페이스로 대체.\n",
        "    a_line = re.sub('[-!?()>~.,]',' ',a_line)    # 특수문자 스페이스로 대체.\n",
        "    a_line = re.sub('\\d+',' ', a_line)           # 숫자 스페이스로 대체.\n",
        " \n",
        "    a_line = re.sub('\\n',' ',a_line)             # line return 스페이스로 대체.\n",
        "    a_line = re.sub('[\\[\\]]', ' ',a_line)        # 대괄호 스페이스로 대체.\n",
        "    a_line = re.sub('[a-zA-Z]',' ',a_line)       # 영문 스페이스로 대체.\n",
        "    a_line = re.sub('\\s+', ' ', a_line)          # 잉여 스페이즈 줄임.\n",
        "\n",
        "    my_line_clean.append(a_line)\n",
        "\n",
        "# 명사 추출\n",
        "my_tagger = konlpy.tag.Okt()\n",
        "\n",
        "my_words = []\n",
        "for a_line in my_line_clean:\n",
        "    my_words.extend(my_tagger.nouns(a_line))  # 명사 # extend\n",
        "\n",
        "# 단음절 제거 \n",
        "my_words_2 = [a_word  for a_word in my_words if len(a_word) > word_length]\n",
        "\n",
        "# Series 로 변환\n",
        "my_series = pd.Series(my_words_2)\n",
        "my_word_counts = my_series.value_counts().sort_values(ascending=False)\n",
        "\n",
        "# 딕셔너리로 변환\n",
        "my_dict = {}\n",
        "for an_index, a_value in zip(my_word_counts.index,my_word_counts.values):\n",
        "    my_dict[an_index] = a_value\n",
        "\n",
        "\n",
        "try : \n",
        "    img = Image.open(image_PATH)        # 이미지 있을 경우 경로 입력\n",
        "    np.array(img)                                        # 넘파이 배열로 변환\n",
        "\n",
        "    wc = WordCloud(font_path='/usr/share/fonts/truetype/nanum/NanumBarunGothic',background_color='white', max_words= words_num, mask=back_mask)           \n",
        "    wc.generate_from_frequencies(my_dict)\n",
        "\n",
        "except :\n",
        "\n",
        "    wc = WordCloud(font_path='/usr/share/fonts/truetype/nanum/NanumBarunGothic',background_color='white', max_words = words_num)         \n",
        "    wc.generate_from_frequencies(my_dict)"
      ],
      "execution_count": null,
      "outputs": []
    },
    {
      "cell_type": "markdown",
      "metadata": {
        "id": "FtuNw0OhnT41"
      },
      "source": [
        "### 3. 워드클라우드 생성 (별도 이미지 파일가 없으면 일반형으로 출력)"
      ]
    },
    {
      "cell_type": "code",
      "metadata": {
        "id": "_AJa2q1pgiB6"
      },
      "source": [
        "plt.figure(figsize=(10,10))\n",
        "plt.imshow(wc)\n",
        "plt.axis(\"off\")      \n",
        "plt.show()"
      ],
      "execution_count": null,
      "outputs": []
    }
  ]
}