{
  "nbformat": 4,
  "nbformat_minor": 0,
  "metadata": {
    "kernelspec": {
      "display_name": "Python 3",
      "language": "python",
      "name": "python3"
    },
    "language_info": {
      "codemirror_mode": {
        "name": "ipython",
        "version": 3
      },
      "file_extension": ".py",
      "mimetype": "text/x-python",
      "name": "python",
      "nbconvert_exporter": "python",
      "pygments_lexer": "ipython3",
      "version": "3.8.8"
    },
    "colab": {
      "name": "colab_kakao_word_cloud.ipynb",
      "provenance": [],
      "collapsed_sections": [
        "PZFhY4cjcc2c"
      ],
      "include_colab_link": true
    }
  },
  "cells": [
    {
      "cell_type": "markdown",
      "metadata": {
        "id": "view-in-github",
        "colab_type": "text"
      },
      "source": [
        "<a href=\"https://colab.research.google.com/github/passiona2z/kakaotalk_wordcloud/blob/master/colab_kakao_word_cloud.ipynb\" target=\"_parent\"><img src=\"https://colab.research.google.com/assets/colab-badge.svg\" alt=\"Open In Colab\"/></a>"
      ]
    },
    {
      "cell_type": "markdown",
      "metadata": {
        "id": "5hkLw44Ecc2a"
      },
      "source": [
        "### 워드 클라우드 (국문)"
      ]
    },
    {
      "cell_type": "markdown",
      "metadata": {
        "id": "PZFhY4cjcc2c"
      },
      "source": [
        "#### 필요한 패키지 불러오기"
      ]
    },
    {
      "cell_type": "code",
      "metadata": {
        "id": "_SFHb8gncivL"
      },
      "source": [
        "# 한글 분석 라이브러리 설치.\n",
        "!pip install konlpy"
      ],
      "execution_count": null,
      "outputs": []
    },
    {
      "cell_type": "code",
      "metadata": {
        "id": "JZ-_wosLeH-h"
      },
      "source": [
        "# 한글 (나눔) 글꼴 설치\n",
        "!sudo apt-get install -y fonts-nanum\n",
        "!sudo fc-cache -fv\n",
        "!rm ~/.cache/matplitlib -rf"
      ],
      "execution_count": null,
      "outputs": []
    },
    {
      "cell_type": "code",
      "metadata": {
        "id": "kkGN0M3icc2c"
      },
      "source": [
        "from wordcloud import WordCloud\n",
        "import konlpy\n",
        "import numpy as np\n",
        "import pandas as pd\n",
        "import re\n",
        "import matplotlib.pyplot as plt\n",
        "plt.rc('font', family='NanumBarunGothic')     # 한글 깨짐 처리\n",
        "\n",
        "from PIL import Image                         # Pillow 패키지의 영상 핸들링 클래스\n",
        "\n",
        "\n",
        "import os                                     # 파일 확인\n",
        "import natsort                                # 파일 정렬"
      ],
      "execution_count": 103,
      "outputs": []
    },
    {
      "cell_type": "markdown",
      "metadata": {
        "id": "-LzYKK5qcc2d"
      },
      "source": [
        "#### 데이터 읽어오기"
      ]
    },
    {
      "cell_type": "code",
      "metadata": {
        "id": "OgFF3DIliHer"
      },
      "source": [
        "# 파일명 가져오기\n",
        "\n",
        "PATH = '/content/'                   # 코랩 파일에 바로 업로드하면 경로변경 불필요\n",
        "file_list = os.listdir(PATH)\n",
        "text_list = list()\n",
        "\n",
        "for file in file_list:\n",
        "    if file.split(\".\")[-1] == 'txt':  # check\n",
        "        text_list.append(file)\n",
        "\n",
        "text_list = natsort.natsorted(text_list) # natsort 정렬\n",
        "\n",
        "text_list"
      ],
      "execution_count": null,
      "outputs": []
    },
    {
      "cell_type": "code",
      "metadata": {
        "id": "oHT53j74cc2e"
      },
      "source": [
        "# 카카오톡 데이터 불러오기\n",
        "\n",
        "text_list_all = []\n",
        "\n",
        "for i in text_list :\n",
        "   with open('/content/'+i, 'r', encoding='utf-8-sig') as f :\n",
        "      my_text = f.readlines()\n",
        "      text_list_all.extend(my_text)  # extend    "
      ],
      "execution_count": 105,
      "outputs": []
    },
    {
      "cell_type": "code",
      "metadata": {
        "id": "HtakHzMhWBTe"
      },
      "source": [
        "text_list_all[:10]                   # 데이터 확인"
      ],
      "execution_count": null,
      "outputs": []
    },
    {
      "cell_type": "markdown",
      "metadata": {
        "id": "NzFadUxXcc2f"
      },
      "source": [
        "#### 전처리:"
      ]
    },
    {
      "cell_type": "code",
      "metadata": {
        "id": "I_eum0RQcc2g"
      },
      "source": [
        "# 텍스트 부분 발췌\n",
        "\n",
        "my_line = [ a_line.split(':') for a_line in text_list_all]\n",
        "\n",
        "my_line_word = []\n",
        "\n",
        "for a_line in my_line :\n",
        "\n",
        "    try :\n",
        "        a_line = a_line[2] \n",
        "\n",
        "    except : \n",
        "        continue            # try - except\n",
        "\n",
        "    my_line_word.append(a_line)     \n",
        "\n",
        "my_line_word[:10]           # 텍스트 확인"
      ],
      "execution_count": null,
      "outputs": []
    },
    {
      "cell_type": "code",
      "metadata": {
        "id": "UMitRndUqFuR"
      },
      "source": [
        "# 불용어 정의하기 (추가가능)\n",
        "no_meaning = 'ㅠ|ㅜ|ㅡ|ㅋ|ㅎ|'\n",
        "no_meaning += '이모티콘|사진'"
      ],
      "execution_count": 108,
      "outputs": []
    },
    {
      "cell_type": "code",
      "metadata": {
        "id": "UhuZ2fmFqnP2"
      },
      "source": [
        "# 전처리\n",
        "my_line_clean = []\n",
        "\n",
        "for a_line in my_line_word :\n",
        "\n",
        "    a_line = re.sub(no_meaning, ' ', a_line)     # 특별한 의미 없는 단어 스페이스로 대체.\n",
        "    a_line = re.sub('\\W+',' ', a_line)           # 특수 문자 스페이스로 대체.\n",
        "    a_line = re.sub('[-!?()>~.,]',' ',a_line)    # 특수문자 스페이스로 대체.\n",
        "    a_line = re.sub('\\d+',' ', a_line)           # 숫자 스페이스로 대체.\n",
        " \n",
        "    a_line = re.sub('\\n',' ',a_line)             # line return 스페이스로 대체.\n",
        "    a_line = re.sub('[\\[\\]]', ' ',a_line)        # 대괄호 스페이스로 대체.\n",
        "    a_line = re.sub('[a-zA-Z]',' ',a_line)       # 영문 스페이스로 대체.\n",
        "    a_line = re.sub('\\s+', ' ', a_line)          # 잉여 스페이즈 줄임.\n",
        "\n",
        "    my_line_clean.append(a_line)\n"
      ],
      "execution_count": 109,
      "outputs": []
    },
    {
      "cell_type": "code",
      "metadata": {
        "id": "9tSbmNoDcc2g"
      },
      "source": [
        "# 몇개만 출력해 본다.\n",
        "my_line_clean[:10]"
      ],
      "execution_count": null,
      "outputs": []
    },
    {
      "cell_type": "markdown",
      "metadata": {
        "id": "xXIxSKdxcc2h"
      },
      "source": [
        "#### 한글 단어 추출(라이브러리)"
      ]
    },
    {
      "cell_type": "code",
      "metadata": {
        "id": "6738NMxjcc2i"
      },
      "source": [
        "my_tagger = konlpy.tag.Okt()   # 라이브러리 객체"
      ],
      "execution_count": 111,
      "outputs": []
    },
    {
      "cell_type": "code",
      "metadata": {
        "id": "cXpt7vRJcc2i"
      },
      "source": [
        "# 명사 추출.\n",
        "my_words = []\n",
        "for a_line in my_line_clean:\n",
        "    my_words.extend(my_tagger.nouns(a_line))  # 명사 # extend\n",
        "    # my_words.extend(my_tagger.morphs(a_line)) # 모든 형태소 # (부가옵션) stem=True "
      ],
      "execution_count": 112,
      "outputs": []
    },
    {
      "cell_type": "code",
      "metadata": {
        "id": "vAfpyUQHcc2i"
      },
      "source": [
        "# 단음절 제거 (주관적 판단)\n",
        "my_words_2 = []\n",
        "for a_word in my_words:\n",
        "    if len(a_word) > 1:\n",
        "        my_words_2 += [a_word]\n",
        "\n",
        "# List comprehension 방법 사용.\n",
        "# my_words_2 = [a_word  for a_word in my_words if len(a_word) > 1]"
      ],
      "execution_count": 113,
      "outputs": []
    },
    {
      "cell_type": "markdown",
      "metadata": {
        "id": "Ou-YWLOzcc2j"
      },
      "source": [
        "#### 키워드 추출"
      ]
    },
    {
      "cell_type": "code",
      "metadata": {
        "id": "-tQ41iTFcc2j"
      },
      "source": [
        "# Series 로 변환.\n",
        "my_series = pd.Series(my_words_2)\n",
        "my_series"
      ],
      "execution_count": null,
      "outputs": []
    },
    {
      "cell_type": "code",
      "metadata": {
        "id": "kavl71Zwcc2k"
      },
      "source": [
        "# 도수 분포표 Top 50\n",
        "my_word_counts = my_series.value_counts().sort_values(ascending=False)\n",
        "my_word_counts[:50]  "
      ],
      "execution_count": null,
      "outputs": []
    },
    {
      "cell_type": "code",
      "metadata": {
        "id": "_7xhUH3rcc2k"
      },
      "source": [
        "# 딕셔너리로 변환\n",
        "my_dict = {}\n",
        "for an_index, a_value in zip(my_word_counts.index,my_word_counts.values):\n",
        "    my_dict[an_index] = a_value"
      ],
      "execution_count": 117,
      "outputs": []
    },
    {
      "cell_type": "markdown",
      "metadata": {
        "id": "UTbbtfDjcc2k"
      },
      "source": [
        "#### 워드 클라우드 기본형 생성"
      ]
    },
    {
      "cell_type": "code",
      "metadata": {
        "id": "7Spxv1FWcc2k"
      },
      "source": [
        "# 워드클라우드의 요구사항.\n",
        "# a_long_sentence = ' '.join(my_words_2)"
      ],
      "execution_count": null,
      "outputs": []
    },
    {
      "cell_type": "code",
      "metadata": {
        "id": "tnRN4H6fcc2k",
        "colab": {
          "base_uri": "https://localhost:8080/"
        },
        "outputId": "b95c39c4-3e97-4bca-aac0-06f383a189a9"
      },
      "source": [
        "wc = WordCloud(font_path='/usr/share/fonts/truetype/nanum/NanumBarunGothic',background_color='white', max_words=50)              # 바탕색, 단어 개수 등 설정\n",
        "# wc.generate(a_long_sentence)\n",
        "wc.generate_from_frequencies(my_dict)\n",
        "# wc.words_"
      ],
      "execution_count": 118,
      "outputs": [
        {
          "output_type": "execute_result",
          "data": {
            "text/plain": [
              "<wordcloud.wordcloud.WordCloud at 0x7f758fc36a50>"
            ]
          },
          "metadata": {
            "tags": []
          },
          "execution_count": 118
        }
      ]
    },
    {
      "cell_type": "code",
      "metadata": {
        "id": "l-g_zDuCcc2l"
      },
      "source": [
        "plt.figure(figsize=(10,10))\n",
        "plt.imshow(wc)\n",
        "plt.axis(\"off\")                                    # 축을 꺼줌.\n",
        "plt.show()"
      ],
      "execution_count": null,
      "outputs": []
    },
    {
      "cell_type": "markdown",
      "metadata": {
        "id": "wiVkMz_Ucc2l"
      },
      "source": [
        "#### 워드 클라우드 마스크(하트) 사용형 생성"
      ]
    },
    {
      "cell_type": "code",
      "metadata": {
        "id": "jHcn-5aNcc2l"
      },
      "source": [
        "# 백그라운드 마스크\n",
        "img = Image.open('/content/background_3.png')                    # 하트.\n",
        "back_mask = np.array(img)                                        # 넘파이 배열로 변환"
      ],
      "execution_count": 120,
      "outputs": []
    },
    {
      "cell_type": "code",
      "metadata": {
        "id": "8Kv8jnwCcc2l"
      },
      "source": [
        "wc = WordCloud(font_path='/usr/share/fonts/truetype/nanum/NanumBarunGothic',background_color='white', max_words=50, mask=back_mask)          \n",
        "wc.generate_from_frequencies(my_dict)"
      ],
      "execution_count": null,
      "outputs": []
    },
    {
      "cell_type": "code",
      "metadata": {
        "id": "I5y-iYoGcc2l"
      },
      "source": [
        "plt.figure(figsize=(20,10))\n",
        "plt.imshow(wc) \n",
        "plt.axis(\"off\")                                    # 축을 꺼줌.\n",
        "plt.show()"
      ],
      "execution_count": null,
      "outputs": []
    }
  ]
}